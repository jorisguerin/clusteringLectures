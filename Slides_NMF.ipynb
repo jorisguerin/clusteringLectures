{
 "cells": [
  {
   "cell_type": "code",
   "execution_count": 1,
   "id": "a8be6803",
   "metadata": {
    "slideshow": {
     "slide_type": "skip"
    }
   },
   "outputs": [
    {
     "data": {
      "text/html": [
       "\n",
       "<style>\n",
       ".output_png {\n",
       "    display: table-cell;\n",
       "    text-align: center;\n",
       "    vertical-align: middle;\n",
       "}\n",
       "</style>\n"
      ],
      "text/plain": [
       "<IPython.core.display.HTML object>"
      ]
     },
     "execution_count": 1,
     "metadata": {},
     "output_type": "execute_result"
    }
   ],
   "source": [
    "from IPython.core.display import HTML\n",
    "HTML(\"\"\"\n",
    "<style>\n",
    ".output_png {\n",
    "    display: table-cell;\n",
    "    text-align: center;\n",
    "    vertical-align: middle;\n",
    "}\n",
    "</style>\n",
    "\"\"\")"
   ]
  },
  {
   "cell_type": "markdown",
   "id": "cb649d70",
   "metadata": {
    "slideshow": {
     "slide_type": "slide"
    }
   },
   "source": [
    "# Non Negative Matrix Factorization (NMF)\n",
    "\n",
    "## Outline\n",
    "\n",
    "- Objectives\n",
    "- Algorithm"
   ]
  },
  {
   "cell_type": "markdown",
   "id": "5463a73f",
   "metadata": {
    "slideshow": {
     "slide_type": "slide"
    }
   },
   "source": [
    "## NMF Algorithm\n",
    "\n",
    "- __Inputs__: \n",
    "    - A data matrix $X$ ($n \\times p$), with $n$ data points and a feature space in $p$ dimensions, containing only __non negative__ ($\\geq 0$) values.\n",
    "    - An positive integer $r$, smaller than $n$ and $p$.\n",
    "- __Objective__: Finding two matrices $W$ ($n \\times r$) and $H$ ($r \\times p$), containing only non negative values, such that:\n",
    "$$X \\approx WH$$\n",
    "- __Usage__: \n",
    "    - As $r << min(n, p)$, the dimension is drastically reduced and we get a new feature space representing the initial data.\n",
    "    - Once the factorization has been built, it is easy to apply standard learning algorithms on $W$ and $H$ to build classifications (e.g., K-means, Agglomerative) or new representations (e.g., PCA)."
   ]
  },
  {
   "cell_type": "markdown",
   "id": "f1cfd1d2",
   "metadata": {
    "slideshow": {
     "slide_type": "subslide"
    }
   },
   "source": [
    "### Formulation of the NMF problem\n",
    "\n",
    "We want to minimize the _distance_ between $X$ and $WH$.\n",
    "\n",
    "$$\\text{Minimize}_{W, H} \\;\\; D(X, WH)$$\n",
    "\n",
    "$$\\text{subject to} \\;\\; w_{ij} \\geq 0, \\forall i \\in \\{1, ..., n\\}, \\forall j \\in \\{1, ..., r\\}$$\n",
    "$$\\;\\;\\;\\;\\;\\;\\;\\;\\;\\;\\;\\;\\;\\; h_{ij} \\geq 0, \\forall i \\in \\{1, ..., r\\}, \\forall j \\in \\{1, ..., p\\}$$\n",
    "\n",
    "The choice of the divergence function $D(., .)$ defines the $W$ and $H$ matrices obtained."
   ]
  },
  {
   "cell_type": "markdown",
   "id": "3bed0f88",
   "metadata": {
    "slideshow": {
     "slide_type": "subslide"
    }
   },
   "source": [
    "### Popular divergences for NMF\n",
    "\n",
    "$D(M, \\hat{M})$ is a _matrix distance_:\n",
    "\n",
    "$$ D(M, \\hat{M}) = \\sum_{i=1}^{n} \\sum_{j=1}^{p} d(m_{ij}, \\hat{m}_{ij}),$$\n",
    "\n",
    "and $d(x, y)$ is defined for all $x, y \\geq 0$ as a $scalar distance$. Popular choices for $d(., .)$ are:\n",
    "- __Euclidean distance__: $d(x, y) = (x - y)^2$. In this case, $D(., .)$ is the __Frobenius norm__.\n",
    "- __Kullback-Leibler divergence__: $d(x, y) = x\\log\\frac{x}{y} - x + y$.\n",
    "- __Itakura-Saito divergence__: $d(x, y) = \\frac{x}{y} - \\log \\frac{x}{y} - 1$."
   ]
  },
  {
   "cell_type": "markdown",
   "id": "e3bd7b59",
   "metadata": {
    "slideshow": {
     "slide_type": "subslide"
    }
   },
   "source": [
    "### Solving NMF using the multiplicative update rule\n",
    "\n",
    "Solving the optimization problem presented above is difficult (NP-hard).\\\n",
    "To address this issue, many heuristics have been develop to find approximate solutions (local optima).\n",
    "\n",
    "#### Multiplicative update rule\n",
    "- Initialize $W$ and $H$ as non negative matrices: $W^0$ and $H^0$.\n",
    "- Repeat until convergence:\n",
    "    - Update $H$: \n",
    "    $$H^{n+1}_{ij} = H^n_{ij} \\frac{((W^n)^TX)_{ij}}{((W^n)^TW^nH^n)_{ij}}$$\n",
    "    - Update $W$: \n",
    "    $$W^{n+1}_{ij} = W^n_{ij} \\frac{(X(H^{n+1})^T)_{ij}}{(W^nH^{n+1}(H^{n+1})^T)_{ij}}$$"
   ]
  },
  {
   "cell_type": "markdown",
   "id": "52be013a",
   "metadata": {
    "slideshow": {
     "slide_type": "subslide"
    }
   },
   "source": [
    "#### Exercise: Compute manually the first $H$ update for the following matrix $X$\n",
    "\n",
    "$$X = \\begin{bmatrix}2 & 1 & 3\\\\\n",
    "4 & 2 & 1\\\\\n",
    "1 & 3 & 3 \\end{bmatrix}$$\n",
    "\n",
    "- The desired latent dimension is $2$.\n",
    "- $W^0$ and $H^0$ are initialized full of ones."
   ]
  },
  {
   "cell_type": "markdown",
   "id": "ffb3b268",
   "metadata": {
    "slideshow": {
     "slide_type": "subslide"
    }
   },
   "source": [
    "#### Exercise: Write two functions for the two update steps.\n",
    "\n",
    "- The first function __update_H__ can be tested using the matrices from the previous exercise."
   ]
  },
  {
   "cell_type": "code",
   "execution_count": 102,
   "id": "cd46b073",
   "metadata": {
    "slideshow": {
     "slide_type": "subslide"
    }
   },
   "outputs": [],
   "source": [
    "import numpy as np\n",
    "import matplotlib.pyplot as plt\n",
    "%matplotlib inline\n",
    "\n",
    "X = np.array([[2,1,3],\n",
    "              [4,2,1],\n",
    "              [1,3,3]])\n",
    "\n",
    "W = np.array([[1,1],\n",
    "              [1,1],\n",
    "              [1,1]])\n",
    "\n",
    "H = np.array([[1,1,1], \n",
    "              [1,1,1]])"
   ]
  },
  {
   "cell_type": "code",
   "execution_count": 94,
   "id": "f66c2c66",
   "metadata": {
    "slideshow": {
     "slide_type": "subslide"
    }
   },
   "outputs": [
    {
     "name": "stdout",
     "output_type": "stream",
     "text": [
      "[[1.16666667 1.         1.16666667]\n",
      " [1.16666667 1.         1.16666667]]\n"
     ]
    }
   ],
   "source": [
    "def update_H(W, H, X):\n",
    "    WX = W.T.dot(X)\n",
    "    WWH = W.T.dot(W.dot(H))\n",
    "\n",
    "    return H * WX / WWH\n",
    "\n",
    "new_H = update_H(W, H, X)\n",
    "print(new_H)"
   ]
  },
  {
   "cell_type": "code",
   "execution_count": 95,
   "id": "235b67dd",
   "metadata": {
    "slideshow": {
     "slide_type": "subslide"
    }
   },
   "outputs": [
    {
     "name": "stdout",
     "output_type": "stream",
     "text": [
      "[[0.91791045 0.91791045]\n",
      " [1.05223881 1.05223881]\n",
      " [1.02985075 1.02985075]]\n"
     ]
    }
   ],
   "source": [
    "def update_W(W, H, X):\n",
    "    XH = X.dot(H.T)\n",
    "    WHH = W.dot(H.dot(H.T))\n",
    "\n",
    "    return W * XH / WHH\n",
    "\n",
    "new_W = update_W(W, new_H, X)\n",
    "print(new_W)"
   ]
  },
  {
   "cell_type": "markdown",
   "id": "85147c53",
   "metadata": {},
   "source": [
    "#### Exercise: Compute the NMF of the matrix $X$ defined above.\n",
    "\n",
    "- $W$ and $H$ can be initialized with small random values.\n",
    "- The iterations can stop when the Frobenius norm (_np.linalg.norm_) between two updates of both $H$ and $W$ is less than $10^{-10}$"
   ]
  },
  {
   "cell_type": "code",
   "execution_count": 96,
   "id": "5c4a270e",
   "metadata": {},
   "outputs": [
    {
     "name": "stdout",
     "output_type": "stream",
     "text": [
      "Original data\n",
      "[[2 1 3]\n",
      " [4 2 1]\n",
      " [1 3 3]]\n",
      "\n",
      "Reconstructed data\n",
      "[[1.75702296 1.95239964 2.40413025]\n",
      " [4.0619839  1.75704289 1.15200342]\n",
      " [1.15202519 2.40411395 3.37281636]]\n",
      "\n",
      "Squared reconstruction error\n",
      "1.9243227672718786\n"
     ]
    }
   ],
   "source": [
    "W = np.random.normal(0, 0.01, size=(3, 2))\n",
    "H = np.random.normal(0, 0.01, size=(2, 3))\n",
    "\n",
    "oldW, oldH = W + 1, H + 1\n",
    "while (np.linalg.norm(H-oldH) > 1e-10) and (np.linalg.norm(W-oldW) > 1e-10):\n",
    "    oldH, oldW = np.copy(H), np.copy(W)\n",
    "    H = update_H(W, H, X)\n",
    "    W = update_W(W, H, X)\n",
    "    \n",
    "print(\"Original data\")\n",
    "print(X)\n",
    "print(\"\\nReconstructed data\")\n",
    "print(W.dot(H))\n",
    "print(\"\\nSquared reconstruction error\")\n",
    "print(np.linalg.norm(W.dot(H) - X)**2)"
   ]
  },
  {
   "cell_type": "markdown",
   "id": "de060585",
   "metadata": {},
   "source": [
    "#### Exercise: Compute the NMF of $X$ using scikit-learn and compare the results.\n",
    "\n",
    "- from sklearn.decomposition import NMF"
   ]
  },
  {
   "cell_type": "code",
   "execution_count": 99,
   "id": "4a17e49f",
   "metadata": {},
   "outputs": [
    {
     "name": "stdout",
     "output_type": "stream",
     "text": [
      "Original data\n",
      "[[2 1 3]\n",
      " [4 2 1]\n",
      " [1 3 3]]\n",
      "\n",
      "Reconstructed data\n",
      "[[1.75746039 1.95245962 2.40366742]\n",
      " [4.05219407 1.76583951 1.17228756]\n",
      " [1.15155619 2.40483477 3.37263146]]\n",
      "\n",
      "Squared reconstruction error\n",
      "1.9249008374682468\n"
     ]
    }
   ],
   "source": [
    "from sklearn.decomposition import NMF\n",
    "\n",
    "nmf = NMF(n_components=2, init=\"random\", solver=\"mu\")\n",
    "nmf.fit(X)\n",
    "W = nmf.transform(X)\n",
    "H = nmf.components_\n",
    "\n",
    "print(\"Original data\")\n",
    "print(X)\n",
    "print(\"\\nReconstructed data\")\n",
    "print(W.dot(H))\n",
    "print(\"\\nSquared reconstruction error\")\n",
    "print(np.linalg.norm(W.dot(H) - X)**2)"
   ]
  },
  {
   "cell_type": "markdown",
   "id": "4d146c91",
   "metadata": {},
   "source": [
    "#### Initialization\n",
    "\n",
    "Several approaches can be implemented regarding the initialization of $W$ and $H$.\n",
    "\n",
    "- Several random initializations\n",
    "- Non-negative double singular value decomposition (NNSVD)\n",
    "- A classification (k-means) of either rows or columns\n",
    "- etc."
   ]
  },
  {
   "cell_type": "code",
   "execution_count": null,
   "id": "0f50383e",
   "metadata": {},
   "outputs": [],
   "source": []
  },
  {
   "cell_type": "code",
   "execution_count": null,
   "id": "27d8284e",
   "metadata": {},
   "outputs": [],
   "source": []
  },
  {
   "cell_type": "code",
   "execution_count": 113,
   "id": "13db7705",
   "metadata": {},
   "outputs": [
    {
     "data": {
      "text/html": [
       "<div>\n",
       "<style scoped>\n",
       "    .dataframe tbody tr th:only-of-type {\n",
       "        vertical-align: middle;\n",
       "    }\n",
       "\n",
       "    .dataframe tbody tr th {\n",
       "        vertical-align: top;\n",
       "    }\n",
       "\n",
       "    .dataframe thead th {\n",
       "        text-align: right;\n",
       "    }\n",
       "</style>\n",
       "<table border=\"1\" class=\"dataframe\">\n",
       "  <thead>\n",
       "    <tr style=\"text-align: right;\">\n",
       "      <th></th>\n",
       "      <th>Cacahuet</th>\n",
       "      <th>Chips</th>\n",
       "      <th>Vin</th>\n",
       "      <th>Biere</th>\n",
       "      <th>Champ</th>\n",
       "      <th>Olive</th>\n",
       "      <th>Pepsi</th>\n",
       "      <th>Orange</th>\n",
       "      <th>Gateau</th>\n",
       "      <th>Fromage</th>\n",
       "      <th>Perrier</th>\n",
       "      <th>Pizza</th>\n",
       "      <th>Muscat</th>\n",
       "      <th>Quiche</th>\n",
       "      <th>Coca</th>\n",
       "    </tr>\n",
       "  </thead>\n",
       "  <tbody>\n",
       "    <tr>\n",
       "      <th>Jean</th>\n",
       "      <td>1</td>\n",
       "      <td>0</td>\n",
       "      <td>0</td>\n",
       "      <td>2</td>\n",
       "      <td>1</td>\n",
       "      <td>4</td>\n",
       "      <td>6</td>\n",
       "      <td>0</td>\n",
       "      <td>5</td>\n",
       "      <td>2</td>\n",
       "      <td>0</td>\n",
       "      <td>0</td>\n",
       "      <td>1</td>\n",
       "      <td>2</td>\n",
       "      <td>0</td>\n",
       "    </tr>\n",
       "    <tr>\n",
       "      <th>Julie</th>\n",
       "      <td>4</td>\n",
       "      <td>0</td>\n",
       "      <td>5</td>\n",
       "      <td>2</td>\n",
       "      <td>1</td>\n",
       "      <td>4</td>\n",
       "      <td>0</td>\n",
       "      <td>0</td>\n",
       "      <td>5</td>\n",
       "      <td>1</td>\n",
       "      <td>1</td>\n",
       "      <td>0</td>\n",
       "      <td>0</td>\n",
       "      <td>1</td>\n",
       "      <td>3</td>\n",
       "    </tr>\n",
       "    <tr>\n",
       "      <th>Brice</th>\n",
       "      <td>0</td>\n",
       "      <td>0</td>\n",
       "      <td>0</td>\n",
       "      <td>2</td>\n",
       "      <td>1</td>\n",
       "      <td>4</td>\n",
       "      <td>2</td>\n",
       "      <td>1</td>\n",
       "      <td>4</td>\n",
       "      <td>0</td>\n",
       "      <td>4</td>\n",
       "      <td>2</td>\n",
       "      <td>0</td>\n",
       "      <td>0</td>\n",
       "      <td>2</td>\n",
       "    </tr>\n",
       "    <tr>\n",
       "      <th>George</th>\n",
       "      <td>3</td>\n",
       "      <td>0</td>\n",
       "      <td>0</td>\n",
       "      <td>1</td>\n",
       "      <td>1</td>\n",
       "      <td>0</td>\n",
       "      <td>6</td>\n",
       "      <td>0</td>\n",
       "      <td>5</td>\n",
       "      <td>0</td>\n",
       "      <td>2</td>\n",
       "      <td>1</td>\n",
       "      <td>3</td>\n",
       "      <td>2</td>\n",
       "      <td>0</td>\n",
       "    </tr>\n",
       "    <tr>\n",
       "      <th>Rose</th>\n",
       "      <td>3</td>\n",
       "      <td>0</td>\n",
       "      <td>0</td>\n",
       "      <td>2</td>\n",
       "      <td>1</td>\n",
       "      <td>4</td>\n",
       "      <td>1</td>\n",
       "      <td>0</td>\n",
       "      <td>5</td>\n",
       "      <td>0</td>\n",
       "      <td>1</td>\n",
       "      <td>0</td>\n",
       "      <td>3</td>\n",
       "      <td>2</td>\n",
       "      <td>0</td>\n",
       "    </tr>\n",
       "    <tr>\n",
       "      <th>Colette</th>\n",
       "      <td>0</td>\n",
       "      <td>3</td>\n",
       "      <td>3</td>\n",
       "      <td>4</td>\n",
       "      <td>0</td>\n",
       "      <td>2</td>\n",
       "      <td>4</td>\n",
       "      <td>5</td>\n",
       "      <td>6</td>\n",
       "      <td>2</td>\n",
       "      <td>0</td>\n",
       "      <td>1</td>\n",
       "      <td>0</td>\n",
       "      <td>1</td>\n",
       "      <td>0</td>\n",
       "    </tr>\n",
       "    <tr>\n",
       "      <th>Aline</th>\n",
       "      <td>3</td>\n",
       "      <td>0</td>\n",
       "      <td>0</td>\n",
       "      <td>2</td>\n",
       "      <td>1</td>\n",
       "      <td>4</td>\n",
       "      <td>6</td>\n",
       "      <td>0</td>\n",
       "      <td>5</td>\n",
       "      <td>0</td>\n",
       "      <td>5</td>\n",
       "      <td>3</td>\n",
       "      <td>0</td>\n",
       "      <td>2</td>\n",
       "      <td>0</td>\n",
       "    </tr>\n",
       "    <tr>\n",
       "      <th>Marie</th>\n",
       "      <td>3</td>\n",
       "      <td>6</td>\n",
       "      <td>0</td>\n",
       "      <td>0</td>\n",
       "      <td>0</td>\n",
       "      <td>0</td>\n",
       "      <td>0</td>\n",
       "      <td>0</td>\n",
       "      <td>5</td>\n",
       "      <td>2</td>\n",
       "      <td>2</td>\n",
       "      <td>1</td>\n",
       "      <td>6</td>\n",
       "      <td>2</td>\n",
       "      <td>0</td>\n",
       "    </tr>\n",
       "    <tr>\n",
       "      <th>Albert</th>\n",
       "      <td>0</td>\n",
       "      <td>3</td>\n",
       "      <td>3</td>\n",
       "      <td>0</td>\n",
       "      <td>0</td>\n",
       "      <td>2</td>\n",
       "      <td>2</td>\n",
       "      <td>2</td>\n",
       "      <td>1</td>\n",
       "      <td>0</td>\n",
       "      <td>5</td>\n",
       "      <td>0</td>\n",
       "      <td>0</td>\n",
       "      <td>2</td>\n",
       "      <td>4</td>\n",
       "    </tr>\n",
       "    <tr>\n",
       "      <th>Kevin</th>\n",
       "      <td>2</td>\n",
       "      <td>0</td>\n",
       "      <td>0</td>\n",
       "      <td>2</td>\n",
       "      <td>2</td>\n",
       "      <td>0</td>\n",
       "      <td>3</td>\n",
       "      <td>0</td>\n",
       "      <td>3</td>\n",
       "      <td>2</td>\n",
       "      <td>1</td>\n",
       "      <td>0</td>\n",
       "      <td>4</td>\n",
       "      <td>2</td>\n",
       "      <td>0</td>\n",
       "    </tr>\n",
       "    <tr>\n",
       "      <th>Sophie</th>\n",
       "      <td>5</td>\n",
       "      <td>3</td>\n",
       "      <td>2</td>\n",
       "      <td>0</td>\n",
       "      <td>3</td>\n",
       "      <td>0</td>\n",
       "      <td>2</td>\n",
       "      <td>2</td>\n",
       "      <td>1</td>\n",
       "      <td>0</td>\n",
       "      <td>0</td>\n",
       "      <td>2</td>\n",
       "      <td>0</td>\n",
       "      <td>1</td>\n",
       "      <td>0</td>\n",
       "    </tr>\n",
       "    <tr>\n",
       "      <th>Pierre</th>\n",
       "      <td>0</td>\n",
       "      <td>1</td>\n",
       "      <td>0</td>\n",
       "      <td>3</td>\n",
       "      <td>0</td>\n",
       "      <td>2</td>\n",
       "      <td>0</td>\n",
       "      <td>0</td>\n",
       "      <td>1</td>\n",
       "      <td>2</td>\n",
       "      <td>1</td>\n",
       "      <td>0</td>\n",
       "      <td>0</td>\n",
       "      <td>1</td>\n",
       "      <td>2</td>\n",
       "    </tr>\n",
       "    <tr>\n",
       "      <th>Paul</th>\n",
       "      <td>1</td>\n",
       "      <td>0</td>\n",
       "      <td>1</td>\n",
       "      <td>0</td>\n",
       "      <td>0</td>\n",
       "      <td>1</td>\n",
       "      <td>2</td>\n",
       "      <td>2</td>\n",
       "      <td>0</td>\n",
       "      <td>1</td>\n",
       "      <td>2</td>\n",
       "      <td>1</td>\n",
       "      <td>2</td>\n",
       "      <td>2</td>\n",
       "      <td>0</td>\n",
       "    </tr>\n",
       "    <tr>\n",
       "      <th>Raoul</th>\n",
       "      <td>3</td>\n",
       "      <td>5</td>\n",
       "      <td>3</td>\n",
       "      <td>0</td>\n",
       "      <td>3</td>\n",
       "      <td>0</td>\n",
       "      <td>0</td>\n",
       "      <td>3</td>\n",
       "      <td>4</td>\n",
       "      <td>2</td>\n",
       "      <td>3</td>\n",
       "      <td>0</td>\n",
       "      <td>2</td>\n",
       "      <td>4</td>\n",
       "      <td>2</td>\n",
       "    </tr>\n",
       "    <tr>\n",
       "      <th>Lucie</th>\n",
       "      <td>0</td>\n",
       "      <td>2</td>\n",
       "      <td>2</td>\n",
       "      <td>0</td>\n",
       "      <td>2</td>\n",
       "      <td>1</td>\n",
       "      <td>3</td>\n",
       "      <td>4</td>\n",
       "      <td>0</td>\n",
       "      <td>0</td>\n",
       "      <td>2</td>\n",
       "      <td>0</td>\n",
       "      <td>0</td>\n",
       "      <td>3</td>\n",
       "      <td>2</td>\n",
       "    </tr>\n",
       "    <tr>\n",
       "      <th>Cecile</th>\n",
       "      <td>1</td>\n",
       "      <td>7</td>\n",
       "      <td>2</td>\n",
       "      <td>3</td>\n",
       "      <td>0</td>\n",
       "      <td>4</td>\n",
       "      <td>5</td>\n",
       "      <td>0</td>\n",
       "      <td>0</td>\n",
       "      <td>2</td>\n",
       "      <td>0</td>\n",
       "      <td>3</td>\n",
       "      <td>2</td>\n",
       "      <td>3</td>\n",
       "      <td>3</td>\n",
       "    </tr>\n",
       "    <tr>\n",
       "      <th>Alain</th>\n",
       "      <td>5</td>\n",
       "      <td>0</td>\n",
       "      <td>0</td>\n",
       "      <td>5</td>\n",
       "      <td>0</td>\n",
       "      <td>4</td>\n",
       "      <td>3</td>\n",
       "      <td>0</td>\n",
       "      <td>0</td>\n",
       "      <td>3</td>\n",
       "      <td>4</td>\n",
       "      <td>2</td>\n",
       "      <td>1</td>\n",
       "      <td>0</td>\n",
       "      <td>0</td>\n",
       "    </tr>\n",
       "    <tr>\n",
       "      <th>Laura</th>\n",
       "      <td>0</td>\n",
       "      <td>2</td>\n",
       "      <td>3</td>\n",
       "      <td>0</td>\n",
       "      <td>3</td>\n",
       "      <td>0</td>\n",
       "      <td>2</td>\n",
       "      <td>3</td>\n",
       "      <td>0</td>\n",
       "      <td>3</td>\n",
       "      <td>3</td>\n",
       "      <td>0</td>\n",
       "      <td>0</td>\n",
       "      <td>0</td>\n",
       "      <td>2</td>\n",
       "    </tr>\n",
       "    <tr>\n",
       "      <th>FLore</th>\n",
       "      <td>0</td>\n",
       "      <td>0</td>\n",
       "      <td>3</td>\n",
       "      <td>0</td>\n",
       "      <td>0</td>\n",
       "      <td>5</td>\n",
       "      <td>6</td>\n",
       "      <td>0</td>\n",
       "      <td>0</td>\n",
       "      <td>7</td>\n",
       "      <td>0</td>\n",
       "      <td>2</td>\n",
       "      <td>6</td>\n",
       "      <td>7</td>\n",
       "      <td>0</td>\n",
       "    </tr>\n",
       "    <tr>\n",
       "      <th>Chloe</th>\n",
       "      <td>1</td>\n",
       "      <td>2</td>\n",
       "      <td>3</td>\n",
       "      <td>2</td>\n",
       "      <td>0</td>\n",
       "      <td>3</td>\n",
       "      <td>0</td>\n",
       "      <td>2</td>\n",
       "      <td>0</td>\n",
       "      <td>4</td>\n",
       "      <td>0</td>\n",
       "      <td>2</td>\n",
       "      <td>0</td>\n",
       "      <td>2</td>\n",
       "      <td>5</td>\n",
       "    </tr>\n",
       "  </tbody>\n",
       "</table>\n",
       "</div>"
      ],
      "text/plain": [
       "         Cacahuet  Chips  Vin  Biere  Champ  Olive  Pepsi  Orange  Gateau  \\\n",
       "Jean            1      0    0      2      1      4      6       0       5   \n",
       "Julie           4      0    5      2      1      4      0       0       5   \n",
       "Brice           0      0    0      2      1      4      2       1       4   \n",
       "George          3      0    0      1      1      0      6       0       5   \n",
       "Rose            3      0    0      2      1      4      1       0       5   \n",
       "Colette         0      3    3      4      0      2      4       5       6   \n",
       "Aline           3      0    0      2      1      4      6       0       5   \n",
       "Marie           3      6    0      0      0      0      0       0       5   \n",
       "Albert          0      3    3      0      0      2      2       2       1   \n",
       "Kevin           2      0    0      2      2      0      3       0       3   \n",
       "Sophie          5      3    2      0      3      0      2       2       1   \n",
       "Pierre          0      1    0      3      0      2      0       0       1   \n",
       "Paul            1      0    1      0      0      1      2       2       0   \n",
       "Raoul           3      5    3      0      3      0      0       3       4   \n",
       "Lucie           0      2    2      0      2      1      3       4       0   \n",
       "Cecile          1      7    2      3      0      4      5       0       0   \n",
       "Alain           5      0    0      5      0      4      3       0       0   \n",
       "Laura           0      2    3      0      3      0      2       3       0   \n",
       "FLore           0      0    3      0      0      5      6       0       0   \n",
       "Chloe           1      2    3      2      0      3      0       2       0   \n",
       "\n",
       "         Fromage  Perrier  Pizza  Muscat  Quiche  Coca  \n",
       "Jean           2        0      0       1       2     0  \n",
       "Julie          1        1      0       0       1     3  \n",
       "Brice          0        4      2       0       0     2  \n",
       "George         0        2      1       3       2     0  \n",
       "Rose           0        1      0       3       2     0  \n",
       "Colette        2        0      1       0       1     0  \n",
       "Aline          0        5      3       0       2     0  \n",
       "Marie          2        2      1       6       2     0  \n",
       "Albert         0        5      0       0       2     4  \n",
       "Kevin          2        1      0       4       2     0  \n",
       "Sophie         0        0      2       0       1     0  \n",
       "Pierre         2        1      0       0       1     2  \n",
       "Paul           1        2      1       2       2     0  \n",
       "Raoul          2        3      0       2       4     2  \n",
       "Lucie          0        2      0       0       3     2  \n",
       "Cecile         2        0      3       2       3     3  \n",
       "Alain          3        4      2       1       0     0  \n",
       "Laura          3        3      0       0       0     2  \n",
       "FLore          7        0      2       6       7     0  \n",
       "Chloe          4        0      2       0       2     5  "
      ]
     },
     "execution_count": 113,
     "metadata": {},
     "output_type": "execute_result"
    }
   ],
   "source": [
    "import pandas as pd\n",
    "\n",
    "data = pd.read_csv(\"Data/recom-jouet.dat\", sep=\" \")\n",
    "\n",
    "data"
   ]
  },
  {
   "cell_type": "code",
   "execution_count": 159,
   "id": "40ec325d",
   "metadata": {},
   "outputs": [
    {
     "name": "stderr",
     "output_type": "stream",
     "text": [
      "/home/joris/Softwares/miniconda3/envs/clustering_lectures/lib/python3.9/site-packages/sklearn/decomposition/_nmf.py:289: FutureWarning: The 'init' value, when 'init=None' and n_components is less than n_samples and n_features, will be changed from 'nndsvd' to 'nndsvda' in 1.1 (renaming of 0.26).\n",
      "  warnings.warn(\n"
     ]
    }
   ],
   "source": [
    "nmf = NMF(n_components=5)\n",
    "\n",
    "nmf.fit(data)\n",
    "W = nmf.transform(data)\n",
    "H = nmf.components_"
   ]
  },
  {
   "cell_type": "code",
   "execution_count": 160,
   "id": "22ff2558",
   "metadata": {},
   "outputs": [
    {
     "data": {
      "image/png": "[encoded data removed]",
      "text/plain": [
       "<Figure size 720x720 with 2 Axes>"
      ]
     },
     "metadata": {
      "needs_background": "light"
     },
     "output_type": "display_data"
    }
   ],
   "source": [
    "from sklearn.metrics.pairwise import cosine_similarity\n",
    "\n",
    "users_similarity = cosine_similarity(W)\n",
    "\n",
    "plt.figure(figsize=(10,10))\n",
    "plt.imshow(users_similarity, cmap=\"bwr\")\n",
    "plt.colorbar()\n",
    "plt.xticks(ticks=range(len(data.index.values)), labels=data.index.values, rotation=\"vertical\")\n",
    "plt.yticks(ticks=range(len(data.index.values)), labels=data.index.values)\n",
    "plt.show()"
   ]
  },
  {
   "cell_type": "code",
   "execution_count": 161,
   "id": "d4191aee",
   "metadata": {},
   "outputs": [
    {
     "data": {
      "image/png": "[encoded data removed]",
      "text/plain": [
       "<Figure size 720x720 with 2 Axes>"
      ]
     },
     "metadata": {
      "needs_background": "light"
     },
     "output_type": "display_data"
    }
   ],
   "source": [
    "products_similarity = cosine_similarity(H.T)\n",
    "\n",
    "plt.figure(figsize=(10,10))\n",
    "plt.imshow(products_similarity)\n",
    "plt.colorbar()\n",
    "plt.xticks(ticks=range(len(data.columns.values)), labels=data.columns.values, rotation=\"vertical\")\n",
    "plt.yticks(ticks=range(len(data.columns.values)), labels=data.columns.values)\n",
    "plt.show()"
   ]
  },
  {
   "cell_type": "code",
   "execution_count": 162,
   "id": "439566ea",
   "metadata": {},
   "outputs": [
    {
     "data": {
      "image/png": "[encoded data removed]",
      "text/plain": [
       "<Figure size 432x288 with 2 Axes>"
      ]
     },
     "metadata": {
      "needs_background": "light"
     },
     "output_type": "display_data"
    }
   ],
   "source": [
    "plt.imshow(H.T)\n",
    "plt.colorbar()\n",
    "plt.yticks(ticks=range(len(data.columns.values)), labels=data.columns.values)\n",
    "plt.show()"
   ]
  },
  {
   "cell_type": "code",
   "execution_count": 187,
   "id": "7c0f0b47",
   "metadata": {},
   "outputs": [],
   "source": [
    "from sklearn.cluster import AgglomerativeClustering\n",
    "\n",
    "agg = AgglomerativeClustering(n_clusters=5, compute_distances=True)\n",
    "clusters_reduced = agg.fit_predict(H.T)\n",
    "\n",
    "# plt.scatter(np.arange(agg.distances_.shape[0], 0, -1), agg.distances_)\n",
    "# plt.show()"
   ]
  },
  {
   "cell_type": "code",
   "execution_count": 197,
   "id": "b99ab865",
   "metadata": {},
   "outputs": [
    {
     "name": "stdout",
     "output_type": "stream",
     "text": [
      "Plot Dendrogram\n"
     ]
    },
    {
     "data": {
      "image/png": "[encoded data removed]",
      "text/plain": [
       "<Figure size 432x288 with 1 Axes>"
      ]
     },
     "metadata": {
      "needs_background": "light"
     },
     "output_type": "display_data"
    }
   ],
   "source": [
    "from scipy.cluster.hierarchy import dendrogram\n",
    "\n",
    "print(\"Plot Dendrogram\")\n",
    "\n",
    "children = agg.children_\n",
    "distances = agg.distances_\n",
    "n_observations = np.arange(2, children.shape[0]+2)\n",
    "\n",
    "linkage_matrix = np.c_[children, distances, n_observations]\n",
    "\n",
    "thresh = 0.5 * (agg.distances_[-4] + agg.distances_[-5])\n",
    "dendrogram(linkage_matrix, labels=data.columns.values, leaf_rotation=90, color_threshold=thresh)\n",
    "plt.show()"
   ]
  },
  {
   "cell_type": "code",
   "execution_count": 192,
   "id": "6cfc672f",
   "metadata": {},
   "outputs": [
    {
     "name": "stdout",
     "output_type": "stream",
     "text": [
      "[0.37324486 0.60305539 0.79118005 0.8274065  0.9818171  1.62685736\n",
      " 1.68440288 1.72492834 2.08379185 2.53740626 2.70658985 3.5694038\n",
      " 4.50105315 5.11329653]\n"
     ]
    }
   ],
   "source": [
    "print(agg.distances_)"
   ]
  },
  {
   "cell_type": "code",
   "execution_count": null,
   "id": "ab6c2668",
   "metadata": {},
   "outputs": [],
   "source": []
  },
  {
   "cell_type": "code",
   "execution_count": null,
   "id": "fa0ed080",
   "metadata": {},
   "outputs": [],
   "source": []
  },
  {
   "cell_type": "code",
   "execution_count": 183,
   "id": "eaa59ae2",
   "metadata": {},
   "outputs": [],
   "source": [
    "agg = AgglomerativeClustering(n_clusters=5, compute_distances=True)\n",
    "clusters_full_data = agg.fit_predict(data.T)"
   ]
  },
  {
   "cell_type": "code",
   "execution_count": 184,
   "id": "acf9039a",
   "metadata": {},
   "outputs": [
    {
     "data": {
      "image/png": "[encoded data removed]",
      "text/plain": [
       "<Figure size 432x288 with 1 Axes>"
      ]
     },
     "metadata": {
      "needs_background": "light"
     },
     "output_type": "display_data"
    }
   ],
   "source": [
    "children = agg.children_\n",
    "distances = agg.distances_\n",
    "n_observations = np.arange(2, children.shape[0]+2)\n",
    "\n",
    "linkage_matrix = np.c_[children, distances, n_observations]\n",
    "\n",
    "dendrogram(linkage_matrix, labels=data.columns.values, leaf_rotation=90)\n",
    "plt.show()"
   ]
  },
  {
   "cell_type": "code",
   "execution_count": 185,
   "id": "4b38abe7",
   "metadata": {},
   "outputs": [
    {
     "name": "stdout",
     "output_type": "stream",
     "text": [
      "0.7117182527586893\n"
     ]
    }
   ],
   "source": [
    "from sklearn.metrics import normalized_mutual_info_score\n",
    "\n",
    "print(normalized_mutual_info_score(clusters_reduced, clusters_full_data))"
   ]
  },
  {
   "cell_type": "code",
   "execution_count": null,
   "id": "568d4286",
   "metadata": {},
   "outputs": [],
   "source": []
  }
 ],
 "metadata": {
  "celltoolbar": "Slideshow",
  "kernelspec": {
   "display_name": "Python 3 (ipykernel)",
   "language": "python",
   "name": "python3"
  },
  "language_info": {
   "codemirror_mode": {
    "name": "ipython",
    "version": 3
   },
   "file_extension": ".py",
   "mimetype": "text/x-python",
   "name": "python",
   "nbconvert_exporter": "python",
   "pygments_lexer": "ipython3",
   "version": "3.9.7"
  }
 },
 "nbformat": 4,
 "nbformat_minor": 5
}
